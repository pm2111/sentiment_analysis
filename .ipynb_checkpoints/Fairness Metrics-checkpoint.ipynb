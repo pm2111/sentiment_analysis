{
 "cells": [
  {
   "cell_type": "code",
   "execution_count": 1,
   "id": "413a2793",
   "metadata": {},
   "outputs": [
    {
     "ename": "SyntaxError",
     "evalue": "invalid syntax (1378204595.py, line 1)",
     "output_type": "error",
     "traceback": [
      "\u001b[1;36m  Cell \u001b[1;32mIn[1], line 1\u001b[1;36m\u001b[0m\n\u001b[1;33m    pip install -q -U pip==20.2\u001b[0m\n\u001b[1;37m        ^\u001b[0m\n\u001b[1;31mSyntaxError\u001b[0m\u001b[1;31m:\u001b[0m invalid syntax\n"
     ]
    }
   ],
   "source": [
    "pip install pip==20.2\n",
    "pip install fairness-indicators\n",
    "pip install witwidget\n"
   ]
  },
  {
   "cell_type": "code",
   "execution_count": 4,
   "id": "3a076dc9",
   "metadata": {},
   "outputs": [
    {
     "name": "stdout",
     "output_type": "stream",
     "text": [
      "Collecting fairness-indicators\n",
      "  Downloading fairness_indicators-0.30.1-py3-none-any.whl (24 kB)\n",
      "Collecting witwidget<2,>=1.4.4\n",
      "  Downloading witwidget-1.8.1-py3-none-any.whl (1.5 MB)\n",
      "Note: you may need to restart the kernel to use updated packages.\n"
     ]
    },
    {
     "name": "stderr",
     "output_type": "stream",
     "text": [
      "ERROR: Could not find a version that satisfies the requirement tensorflow-data-validation<0.31,>=0.30 (from fairness-indicators) (from versions: none)\n",
      "ERROR: No matching distribution found for tensorflow-data-validation<0.31,>=0.30 (from fairness-indicators)\n",
      "WARNING: You are using pip version 20.2; however, version 23.0 is available.\n",
      "You should consider upgrading via the 'C:\\Users\\peter.marinov\\anaconda3\\envs\\DL\\python.exe -m pip install --upgrade pip' command.\n"
     ]
    }
   ],
   "source": [
    "pip install fairness-indicators\n"
   ]
  },
  {
   "cell_type": "code",
   "execution_count": 5,
   "id": "4b4c9c6d",
   "metadata": {},
   "outputs": [
    {
     "name": "stdout",
     "output_type": "stream",
     "text": [
      "Collecting witwidget\n",
      "  Using cached witwidget-1.8.1-py3-none-any.whl (1.5 MB)\n",
      "Requirement already satisfied: tensorflow>=1.12.1 in c:\\users\\peter.marinov\\anaconda3\\envs\\dl\\lib\\site-packages (from witwidget) (2.10.0)\n",
      "Requirement already satisfied: six>=1.12.0 in c:\\users\\peter.marinov\\anaconda3\\envs\\dl\\lib\\site-packages (from witwidget) (1.16.0)\n",
      "Collecting google-api-python-client>=1.7.8\n",
      "  Downloading google_api_python_client-2.76.0-py2.py3-none-any.whl (11.0 MB)\n",
      "Collecting oauth2client>=4.1.3\n",
      "  Downloading oauth2client-4.1.3-py2.py3-none-any.whl (98 kB)\n",
      "Requirement already satisfied: ipywidgets>=7.0.0 in c:\\users\\peter.marinov\\anaconda3\\envs\\dl\\lib\\site-packages (from witwidget) (7.6.5)\n",
      "Requirement already satisfied: absl-py>=0.4 in c:\\users\\peter.marinov\\anaconda3\\envs\\dl\\lib\\site-packages (from witwidget) (1.3.0)\n",
      "Requirement already satisfied: google-pasta>=0.1.1 in c:\\users\\peter.marinov\\anaconda3\\envs\\dl\\lib\\site-packages (from tensorflow>=1.12.1->witwidget) (0.2.0)\n",
      "Requirement already satisfied: typing-extensions>=3.6.6 in c:\\users\\peter.marinov\\anaconda3\\envs\\dl\\lib\\site-packages (from tensorflow>=1.12.1->witwidget) (4.4.0)\n",
      "Requirement already satisfied: h5py>=2.9.0 in c:\\users\\peter.marinov\\anaconda3\\envs\\dl\\lib\\site-packages (from tensorflow>=1.12.1->witwidget) (3.7.0)\n",
      "Requirement already satisfied: opt-einsum>=2.3.2 in c:\\users\\peter.marinov\\anaconda3\\envs\\dl\\lib\\site-packages (from tensorflow>=1.12.1->witwidget) (3.3.0)\n",
      "Collecting protobuf<3.20,>=3.9.2\n",
      "  Downloading protobuf-3.19.6-py2.py3-none-any.whl (162 kB)\n",
      "Requirement already satisfied: numpy>=1.20 in c:\\users\\peter.marinov\\anaconda3\\envs\\dl\\lib\\site-packages (from tensorflow>=1.12.1->witwidget) (1.23.5)\n",
      "Requirement already satisfied: gast<=0.4.0,>=0.2.1 in c:\\users\\peter.marinov\\anaconda3\\envs\\dl\\lib\\site-packages (from tensorflow>=1.12.1->witwidget) (0.4.0)\n",
      "Requirement already satisfied: setuptools in c:\\users\\peter.marinov\\anaconda3\\envs\\dl\\lib\\site-packages (from tensorflow>=1.12.1->witwidget) (65.6.3)\n",
      "Requirement already satisfied: tensorflow-estimator<2.11,>=2.10.0 in c:\\users\\peter.marinov\\anaconda3\\envs\\dl\\lib\\site-packages (from tensorflow>=1.12.1->witwidget) (2.10.0)\n",
      "Requirement already satisfied: packaging in c:\\users\\peter.marinov\\anaconda3\\envs\\dl\\lib\\site-packages (from tensorflow>=1.12.1->witwidget) (22.0)\n",
      "Requirement already satisfied: termcolor>=1.1.0 in c:\\users\\peter.marinov\\anaconda3\\envs\\dl\\lib\\site-packages (from tensorflow>=1.12.1->witwidget) (2.1.0)\n",
      "Note: you may need to restart the kernel to use updated packages.\n"
     ]
    },
    {
     "name": "stderr",
     "output_type": "stream",
     "text": [
      "ERROR: Could not find a version that satisfies the requirement tensorflow-io-gcs-filesystem>=0.23.1 (from tensorflow>=1.12.1->witwidget) (from versions: none)\n",
      "ERROR: No matching distribution found for tensorflow-io-gcs-filesystem>=0.23.1 (from tensorflow>=1.12.1->witwidget)\n",
      "WARNING: You are using pip version 20.2; however, version 23.0 is available.\n",
      "You should consider upgrading via the 'C:\\Users\\peter.marinov\\anaconda3\\envs\\DL\\python.exe -m pip install --upgrade pip' command.\n"
     ]
    }
   ],
   "source": [
    "pip install witwidget\n"
   ]
  },
  {
   "cell_type": "code",
   "execution_count": null,
   "id": "1ad35ff2",
   "metadata": {},
   "outputs": [],
   "source": []
  }
 ],
 "metadata": {
  "kernelspec": {
   "display_name": "Python 3 (ipykernel)",
   "language": "python",
   "name": "python3"
  },
  "language_info": {
   "codemirror_mode": {
    "name": "ipython",
    "version": 3
   },
   "file_extension": ".py",
   "mimetype": "text/x-python",
   "name": "python",
   "nbconvert_exporter": "python",
   "pygments_lexer": "ipython3",
   "version": "3.10.9"
  }
 },
 "nbformat": 4,
 "nbformat_minor": 5
}
